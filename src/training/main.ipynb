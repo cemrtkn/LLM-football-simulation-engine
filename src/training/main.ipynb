{
 "cells": [
  {
   "cell_type": "code",
   "execution_count": null,
   "metadata": {},
   "outputs": [],
   "source": [
    "import os\n",
    "import torch\n",
    "from transformers import ( \n",
    "    AutoTokenizer, \n",
    "    AutoModelForCausalLM,\n",
    "    BitsAndBytesConfig,\n",
    "    HfArgumentParser,\n",
    "    TrainingArguments,\n",
    "    pipeline,\n",
    "    logging,\n",
    "    )\n",
    "from pprint import PrettyPrinter\n",
    "from peft import LoraConfig, PeftModel\n",
    "from trl import SFTTrainer\n",
    "import pandas as pd\n",
    "import datasets\n",
    "import psutil\n",
    "import json"
   ]
  },
  {
   "cell_type": "code",
   "execution_count": null,
   "metadata": {},
   "outputs": [],
   "source": [
    "def memory_usage():\n",
    "    process = psutil.Process()\n",
    "    mem_info = process.memory_info()\n",
    "    print(f\"RSS: {mem_info.rss / (1024 ** 2):.2f} MB\")  # Resident Set Size\n",
    "    print(f\"VMS: {mem_info.vms / (1024 ** 2):.2f} MB\")  # Virtual Memory Size\n",
    "    print(f\"VMS: {mem_info.vms / (1024 ** 2):.2f} MB\")  # Virtual Memory Size\n",
    "\n",
    "memory_usage()"
   ]
  },
  {
   "cell_type": "code",
   "execution_count": 3,
   "metadata": {},
   "outputs": [],
   "source": [
    "from dotenv import load_dotenv\n",
    "from huggingface_hub import login\n",
    "login(token=os.getenv(\"HF_TOKEN\"))"
   ]
  },
  {
   "cell_type": "code",
   "execution_count": null,
   "metadata": {},
   "outputs": [],
   "source": [
    "path_to_parquet = \"/data/ceph/storage/data-tmp/current/kavo1286/personal/data/ft_data/\"\n",
    "data_files = (file for file in os.listdir(path_to_parquet) if file.endswith('parquet'))\n",
    "counter = 0\n",
    "pd_dataset = None\n",
    "for file in data_files:\n",
    "    if counter == 0:\n",
    "        pd_dataset = pd.read_parquet(path_to_parquet + file, engine='pyarrow')\n",
    "    df = pd.read_parquet(path_to_parquet + file, engine='pyarrow')\n",
    "    pd_dataset = pd.concat([pd_dataset, df])\n",
    "    df = None\n",
    "    counter += 1\n",
    "    break\n",
    "print(len(pd_dataset))\n",
    "memory_usage()\n",
    "pd_dataset.sample(frac=1, random_state=42)"
   ]
  },
  {
   "cell_type": "code",
   "execution_count": null,
   "metadata": {},
   "outputs": [],
   "source": [
    "train_df = pd_dataset[['text']].iloc[:50000]\n",
    "val_df = pd_dataset[['text']].iloc[50000:51000]\n",
    "train_dataset = datasets.Dataset.from_pandas(train_df,preserve_index=False)\n",
    "val_dataset = datasets.Dataset.from_pandas(val_df,preserve_index=False)\n",
    "print(train_dataset)"
   ]
  },
  {
   "cell_type": "code",
   "execution_count": 6,
   "metadata": {},
   "outputs": [],
   "source": [
    "lora_r = 16 #lora attention dimension/ rank\n",
    "lora_alpha = 16 #lora scaling parameter\n",
    "lora_dropout = 0.1 #lora dropout probability\n",
    "\n",
    "use_4bit = True\n",
    "bnb_4bit_compute_dtype = \"float16\"\n",
    "bnb_4bit_quant_type = \"nf4\"\n",
    "use_nested_quant = False\n",
    "\n",
    "#output directory where the model predictions and checkpoints will be stored\n",
    "output_dir = \"./results\"\n",
    "\n",
    "#number of training epochs\n",
    "num_train_epochs = 1\n",
    "\n",
    "#enable fp16/bf16 training (set bf16 to True when using A100 GPU in google colab)\n",
    "fp16 = False\n",
    "bf16 = False\n",
    "\n",
    "#batch size per GPU for training\n",
    "per_device_train_batch_size = 4\n",
    "\n",
    "#batch size per GPU for evaluation\n",
    "per_device_eval_batch_size = 4\n",
    "\n",
    "#gradient accumulation steps - No of update steps\n",
    "gradient_accumulation_steps = 4\n",
    "\n",
    "#learning rate\n",
    "learning_rate = 2e-4\n",
    "\n",
    "#weight decay\n",
    "weight_decay = 0.001\n",
    "\n",
    "#Gradient clipping(max gradient Normal)\n",
    "max_grad_norm = 0.3\n",
    "\n",
    "#optimizer to use\n",
    "optim = \"paged_adamw_32bit\"\n",
    "\n",
    "#learning rate scheduler\n",
    "lr_scheduler_type = \"cosine\"\n",
    "\n",
    "#seed for reproducibility\n",
    "seed = 1\n",
    "\n",
    "#Number of training steps\n",
    "max_steps = -1\n",
    "\n",
    "#Ratio of steps for linear warmup\n",
    "warmup_ratio = 0.03\n",
    "\n",
    "#group sequnces into batches with same length\n",
    "group_by_length = False\n",
    "\n",
    "#save checkpoint every X updates steps\n",
    "save_steps = 500\n",
    "\n",
    "#Log at every X updates steps\n",
    "logging_steps = 100\n",
    "\n",
    "packing = False\n",
    "\n",
    "#load the entire model on the GPU\n",
    "device_map = {\"\":0}"
   ]
  },
  {
   "cell_type": "code",
   "execution_count": 7,
   "metadata": {},
   "outputs": [],
   "source": [
    "model_name = \"mistralai/Mistral-7B-v0.3\"\n",
    "new_model = \"Mistral-7B-sim-qlora\""
   ]
  },
  {
   "cell_type": "code",
   "execution_count": null,
   "metadata": {},
   "outputs": [],
   "source": [
    "#load tokenizer and model with QLoRA config\n",
    "compute_dtype = getattr(torch, bnb_4bit_compute_dtype)\n",
    "\n",
    "bnb_config = BitsAndBytesConfig(\n",
    "    load_in_4bit = use_4bit,\n",
    "    bnb_4bit_quant_type = bnb_4bit_quant_type,\n",
    "    bnb_4bit_compute_dtype = compute_dtype,\n",
    "    bnb_4bit_use_double_quant = use_nested_quant,)\n",
    "\n",
    "#cheking GPU compatibility with bfloat16\n",
    "if compute_dtype == torch.float16 and use_4bit:\n",
    "    major, _ = torch.cuda.get_device_capability()\n",
    "    if major >= 8:\n",
    "        print(\"=\"*80)\n",
    "        print(\"Your GPU supports bfloat16, you are getting accelerate training with bf16= True\")\n",
    "        print(\"=\"*80)\n",
    "\n",
    "#load base model\n",
    "model = AutoModelForCausalLM.from_pretrained(\n",
    "    model_name,\n",
    "    quantization_config = bnb_config,\n",
    "    device_map = device_map,\n",
    ")\n",
    "\n",
    "model.config.use_cache = False\n",
    "model.config.pretraining_tp = 1"
   ]
  },
  {
   "cell_type": "code",
   "execution_count": 9,
   "metadata": {},
   "outputs": [],
   "source": [
    "tokenizer = AutoTokenizer.from_pretrained(model_name,trust_remote_code = True)\n",
    "\n",
    "#Load QLoRA config\n",
    "peft_config = LoraConfig(\n",
    "    lora_alpha = lora_alpha,\n",
    "    lora_dropout = lora_dropout,\n",
    "    r  = lora_r,\n",
    "    bias = \"none\",\n",
    "    task_type = \"CAUSAL_LM\",\n",
    ")"
   ]
  },
  {
   "cell_type": "code",
   "execution_count": null,
   "metadata": {},
   "outputs": [],
   "source": [
    "# Function to compute tokenized lengths\n",
    "def compute_token_length(example):\n",
    "    tokenized_length = len(tokenizer(example[\"text\"], truncation=False)[\"input_ids\"])\n",
    "    return {\"length\": tokenized_length}\n",
    "\n",
    "# Compute tokenized lengths and add 'length' column to the dataset\n",
    "train_dataset = train_dataset.map(compute_token_length)\n",
    "\n",
    "# Get the maximum sequence length\n",
    "max_seq_length = max(train_dataset[\"length\"])\n",
    "print(f\"Maximum sequence length in train dataset: {max_seq_length}\")\n",
    "if max_seq_length <= 2048:\n",
    "    max_seq_length = 2048\n",
    "    "
   ]
  },
  {
   "cell_type": "code",
   "execution_count": null,
   "metadata": {},
   "outputs": [],
   "source": [
    "#Set Training parameters\n",
    "training_arguments = TrainingArguments(\n",
    "    output_dir = output_dir,\n",
    "    num_train_epochs = num_train_epochs,\n",
    "    per_device_train_batch_size = per_device_train_batch_size,\n",
    "    gradient_accumulation_steps = gradient_accumulation_steps,\n",
    "    optim = optim,\n",
    "    save_steps = save_steps,\n",
    "    logging_steps = logging_steps,\n",
    "    learning_rate = learning_rate,\n",
    "    fp16 = fp16,\n",
    "    bf16 = bf16,\n",
    "    max_grad_norm = max_grad_norm,\n",
    "    weight_decay = weight_decay,\n",
    "    lr_scheduler_type = lr_scheduler_type,\n",
    "    warmup_ratio = warmup_ratio,\n",
    "    group_by_length = group_by_length,\n",
    "    max_steps = max_steps,\n",
    "    report_to = \"tensorboard\",\n",
    ")\n",
    "\n",
    "#SFT Trainer\n",
    "trainer = SFTTrainer(\n",
    "    model = model,\n",
    "    train_dataset = train_dataset,\n",
    "    eval_dataset = val_dataset,\n",
    "    peft_config = peft_config,\n",
    "    dataset_text_field = \"text\",\n",
    "    max_seq_length = max_seq_length,\n",
    "    args = training_arguments,\n",
    "    tokenizer = tokenizer,\n",
    "    packing = packing,\n",
    ")\n",
    "\n",
    "#Start training\n",
    "trainer.train()"
   ]
  },
  {
   "cell_type": "code",
   "execution_count": null,
   "metadata": {},
   "outputs": [],
   "source": [
    "print(f\"3: Used CUDA memory: {torch.cuda.memory_allocated() / 1e6} MB\")"
   ]
  },
  {
   "cell_type": "code",
   "execution_count": 29,
   "metadata": {},
   "outputs": [],
   "source": [
    "trainer.save_model('adapter')"
   ]
  },
  {
   "cell_type": "code",
   "execution_count": null,
   "metadata": {},
   "outputs": [],
   "source": [
    "output_file_name = 'outputs/outputs_' + new_model + '.json'\n",
    "with open(output_file_name, 'w') as file:\n",
    "    json.dump(trainer.state.log_history, file, indent=4)"
   ]
  }
 ],
 "metadata": {
  "kernelspec": {
   "display_name": ".venv",
   "language": "python",
   "name": "python3"
  },
  "language_info": {
   "codemirror_mode": {
    "name": "ipython",
    "version": 3
   },
   "file_extension": ".py",
   "mimetype": "text/x-python",
   "name": "python",
   "nbconvert_exporter": "python",
   "pygments_lexer": "ipython3",
   "version": "3.10.17"
  }
 },
 "nbformat": 4,
 "nbformat_minor": 4
}
