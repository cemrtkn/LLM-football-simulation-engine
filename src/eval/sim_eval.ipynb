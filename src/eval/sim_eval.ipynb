{
 "cells": [
  {
   "cell_type": "code",
   "execution_count": 19,
   "id": "56145029-6d92-4c4d-be82-ee183eef9bcc",
   "metadata": {},
   "outputs": [],
   "source": [
    "import os\n",
    "import torch\n",
    "from transformers import ( \n",
    "    AutoTokenizer, \n",
    "    AutoModelForCausalLM,\n",
    "    BitsAndBytesConfig,\n",
    "    )\n",
    "from pprint import PrettyPrinter\n",
    "from peft import LoraConfig, PeftModel\n",
    "import pandas as pd\n",
    "import psutil\n",
    "from datetime import timedelta\n",
    "from tqdm import tqdm\n",
    "from generation_vis import extract_event_info"
   ]
  },
  {
   "cell_type": "code",
   "execution_count": null,
   "id": "0084c0ca-bf21-4a6d-a216-1237e33ca8af",
   "metadata": {},
   "outputs": [],
   "source": [
    "from huggingface_hub import login\n",
    "import os\n",
    "from dotenv import load_dotenv\n",
    "\n",
    "current_dir = os.getcwd()  \n",
    "dotenv_path = os.path.join(current_dir, 'src', '.env')  \n",
    "load_dotenv(dotenv_path) \n",
    "login(token=os.getenv(\"HF_TOKEN\"))"
   ]
  },
  {
   "cell_type": "code",
   "execution_count": null,
   "id": "33e88e23-afd5-48d4-8bc8-b786977b29b4",
   "metadata": {},
   "outputs": [],
   "source": [
    "def memory_usage():\n",
    "    process = psutil.Process()\n",
    "    mem_info = process.memory_info()\n",
    "    print(f\"RSS: {mem_info.rss / (1024 ** 2):.2f} MB\")  # Resident Set Size\n",
    "    print(f\"VMS: {mem_info.vms / (1024 ** 2):.2f} MB\")  # Virtual Memory Size\n",
    "    print(f\"VMS: {mem_info.vms / (1024 ** 2):.2f} MB\")  # Virtual Memory Size\n",
    "\n",
    "memory_usage()"
   ]
  },
  {
   "cell_type": "code",
   "execution_count": null,
   "id": "545c5adb-c972-4ea6-863d-59fc0e0fc995",
   "metadata": {},
   "outputs": [],
   "source": [
    "path_to_parquet = \"../data/ft_data/\"\n",
    "data_files = (file for file in os.listdir(path_to_parquet) if file.endswith('parquet'))\n",
    "counter = 0\n",
    "pd_dataset = None\n",
    "for file in data_files:\n",
    "    if counter == 0:\n",
    "        pd_dataset = pd.read_parquet(path_to_parquet + file, engine='pyarrow')\n",
    "    else:\n",
    "        df = pd.read_parquet(path_to_parquet + file, engine='pyarrow')\n",
    "        pd_dataset = pd.concat([pd_dataset, df])\n",
    "    df = None\n",
    "    counter += 1\n",
    "    break\n",
    "memory_usage()\n",
    "pd_dataset = pd_dataset.sample(frac=1, random_state=42)"
   ]
  },
  {
   "cell_type": "code",
   "execution_count": 6,
   "id": "6f97a27b-9a4b-406d-9480-cb4a3d9c3451",
   "metadata": {},
   "outputs": [],
   "source": [
    "model_name = \"mistralai/Mistral-7B-v0.3\"\n",
    "new_model = \"Mistral-7B-sim-qlora\"\n",
    "adapter_path = \"../training/adapter\""
   ]
  },
  {
   "cell_type": "code",
   "execution_count": null,
   "id": "2ba4565c-90f1-41b5-9259-b0b6bdccafde",
   "metadata": {},
   "outputs": [],
   "source": [
    "use_4bit = True\n",
    "bnb_4bit_compute_dtype = \"float16\"\n",
    "bnb_4bit_quant_type = \"nf4\"\n",
    "use_nested_quant = False\n",
    "\n",
    "device_map = {\"\":0}\n",
    "\n",
    "compute_dtype = getattr(torch, bnb_4bit_compute_dtype)\n",
    "\n",
    "bnb_config = BitsAndBytesConfig(\n",
    "    load_in_4bit = use_4bit,\n",
    "    bnb_4bit_quant_type = bnb_4bit_quant_type,\n",
    "    bnb_4bit_compute_dtype = compute_dtype,\n",
    "    bnb_4bit_use_double_quant = use_nested_quant,)\n",
    "\n",
    "#cheking GPU compatibility with bfloat16\n",
    "if compute_dtype == torch.float16 and use_4bit:\n",
    "    major, _ = torch.cuda.get_device_capability()\n",
    "    if major >= 8:\n",
    "        print(\"=\"*80)\n",
    "        print(\"Your GPU supports bfloat16, you are getting accelerate training with bf16= True\")\n",
    "        print(\"=\"*80)\n",
    "\n",
    "#load base model\n",
    "model = AutoModelForCausalLM.from_pretrained(\n",
    "    model_name,\n",
    "    quantization_config = bnb_config,\n",
    "    device_map = device_map,\n",
    ")\n",
    "\n",
    "model.config.use_cache = False\n",
    "model.config.pretraining_tp = 1"
   ]
  },
  {
   "cell_type": "code",
   "execution_count": 8,
   "id": "276f30be-5bfb-4d6e-94f9-0f0484db2f2d",
   "metadata": {},
   "outputs": [],
   "source": [
    "tokenizer = AutoTokenizer.from_pretrained(model_name,trust_remote_code = True)\n",
    "\n",
    "model = PeftModel.from_pretrained(model, adapter_path)"
   ]
  },
  {
   "cell_type": "code",
   "execution_count": null,
   "id": "eb8c3aeb-d39b-48c7-9079-5c2165540d6a",
   "metadata": {},
   "outputs": [],
   "source": [
    "counter = 0 \n",
    "input_text = \"\"\"This is a sequence of football match events.\n",
    "Time: 00:00:00.000 | Event: Half Start\n",
    "\"\"\"\n",
    "seq_list = input_text.split('\\n')\n",
    "match_list = []\n",
    "for i in tqdm(range(100)):\n",
    "    input_text = '\\n'.join(seq_list)\n",
    "    inputs = tokenizer(input_text, return_tensors=\"pt\").to(\"cuda\")  # Ensure tensors are on the right device\n",
    "    output = model.generate(**inputs, max_new_tokens=100, do_sample=True ,temperature=1, pad_token_id=tokenizer.eos_token_id)\n",
    "    \n",
    "    prediction = tokenizer.decode(output[0], skip_special_tokens=True).split('\\n')[-2]\n",
    "    seq_list.append(prediction)\n",
    "    if len(seq_list) > 10:\n",
    "        seq_list.pop(1)\n",
    "    match_list.append(prediction)\n",
    "    counter +=1\n"
   ]
  },
  {
   "cell_type": "markdown",
   "id": "deffa3af",
   "metadata": {},
   "source": [
    "# Save Data\n",
    "- First save the whole sequence as raw txt file"
   ]
  },
  {
   "cell_type": "code",
   "execution_count": null,
   "id": "9de7e2c6-a5c6-4920-9b55-4921330f3b56",
   "metadata": {},
   "outputs": [],
   "source": [
    "start_events = [\"This is a sequence of football match events.\", \"Time: 00:00:00.000 | Event: Half Start\"]\n",
    "simulation = start_events + match_list\n",
    "\n",
    "with open('generated_simulation.txt', 'w') as f:\n",
    "    for line in simulation:\n",
    "        f.write(f\"{line}\\n\")"
   ]
  },
  {
   "cell_type": "markdown",
   "id": "4fd0dc36",
   "metadata": {},
   "source": [
    "- Then save the version readable for the simulation visualization script "
   ]
  },
  {
   "cell_type": "code",
   "execution_count": 3,
   "id": "18a61793-dd66-4d90-9ff5-ad2e99b8f48f",
   "metadata": {},
   "outputs": [],
   "source": [
    "events_list = []\n",
    "with open('generated_simulation.txt', 'r') as f:\n",
    "    for event in f:\n",
    "        if event.startswith(\"This\"):\n",
    "            continue\n",
    "        else:\n",
    "            event_info = extract_event_info(event)\n",
    "            event_info['event'] = event_info['event'].strip()\n",
    "            event_info['time'] = str(event_info['time'])\n",
    "            event_info[\"text\"] = event\n",
    "            event_info[\"start_loc\"] = (event_info[\"start_x\"], event_info[\"start_y\"])\n",
    "            event_info[\"end_loc\"] = (event_info[\"end_x\"], event_info[\"end_y\"])\n",
    "            events_list.append(event_info)\n",
    "\n",
    "events_df =pd.DataFrame(events_list)\n",
    "events_df.to_csv(\"generated_events.csv\", index=False)"
   ]
  },
  {
   "cell_type": "code",
   "execution_count": null,
   "id": "9ba9c8d3",
   "metadata": {},
   "outputs": [],
   "source": []
  }
 ],
 "metadata": {
  "kernelspec": {
   "display_name": ".venv",
   "language": "python",
   "name": "python3"
  },
  "language_info": {
   "codemirror_mode": {
    "name": "ipython",
    "version": 3
   },
   "file_extension": ".py",
   "mimetype": "text/x-python",
   "name": "python",
   "nbconvert_exporter": "python",
   "pygments_lexer": "ipython3",
   "version": "3.10.17"
  }
 },
 "nbformat": 4,
 "nbformat_minor": 5
}
